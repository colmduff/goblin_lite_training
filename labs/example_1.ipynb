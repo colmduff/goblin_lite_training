{
 "cells": [
  {
   "cell_type": "code",
   "execution_count": 26,
   "metadata": {},
   "outputs": [],
   "source": [
    "from goblin_lite.goblin import ScenarioRunner\n",
    "from goblin_lite.resource_manager.data_fetcher import DataFetcher\n",
    "import sys\n",
    "import os\n",
    "import pandas as pd\n",
    "import json\n",
    "import yaml\n"
   ]
  },
  {
   "cell_type": "markdown",
   "metadata": {},
   "source": [
    "## Paths and Input variables\n",
    "\n",
    "We need an input and output path, and emissions factor country key (added so that we might add additional countries in the future), \n",
    "baseline year (the reference year for the data, usually 2020, beyond this, there will be an error as not all dependent databases contain data beyond 2020), the target year (usually 2050). \n",
    "\n",
    "The configuration files taken as inputs is the scenario config and the forest_config\n",
    "\n",
    "#### Notes: \n",
    "testing outside of these year ranges has not been heavily done. You can try and put 2024 as the reference year for example, but\n",
    "it will ungracefully return an error. "
   ]
  },
  {
   "cell_type": "code",
   "execution_count": 27,
   "metadata": {},
   "outputs": [],
   "source": [
    "input_path =\"../data/input\"\n",
    "output_path = \"../data/output\"\n",
    "\n",
    "ef_country = \"ireland\" #keep lower case, I have not implemented checks for this yet\n",
    "\n",
    "baseline_year = 2020\n",
    "target_year = 2050\n",
    "\n",
    "scenario_config = os.path.join(input_path, \"scenario_set_0.json\")\n",
    "forest_config = os.path.join(input_path, \"forest_config\", \"cbm_factory.yaml\")"
   ]
  },
  {
   "cell_type": "markdown",
   "metadata": {},
   "source": [
    "### Scenario input files \n",
    "\n",
    "Before defining the ScenarioRunner, lets look at the inputs and what they are used for: "
   ]
  },
  {
   "cell_type": "code",
   "execution_count": 28,
   "metadata": {},
   "outputs": [
    {
     "name": "stdout",
     "output_type": "stream",
     "text": [
      "Scenario Config Data:\n",
      "[\n",
      "    {\n",
      "        \"Scenarios\": 0,\n",
      "        \"Manure management cattle\": \"tank liquid\",\n",
      "        \"Manure management sheep\": \"solid\",\n",
      "        \"Dairy pop\": 1374930.7168730246,\n",
      "        \"Beef pop\": 333997.84938194766,\n",
      "        \"Upland sheep pop\": 499320.0,\n",
      "        \"Lowland sheep pop\": 1997280.0,\n",
      "        \"Dairy prod\": 0.1767579594474441,\n",
      "        \"Beef prod\": 0.7522453267393894,\n",
      "        \"Lowland sheep prod\": 0,\n",
      "        \"Upland sheep prod\": 0,\n",
      "        \"Forest area\": 0.34956730774276357,\n",
      "        \"Conifer proportion\": 0.24775467326061063,\n",
      "        \"Broadleaf proportion\": 0.7522453267393894,\n",
      "        \"Conifer harvest\": 0.09594122774517429,\n",
      "        \"Conifer thinned\": 0.09594122774517429,\n",
      "        \"Broadleaf harvest\": 0,\n",
      "        \"Crop area\": 0,\n",
      "        \"Wetland area\": 0.6504326922572364,\n",
      "        \"Dairy GUE\": 0.017675795944744412,\n",
      "        \"Beef GUE\": 0.027484170038358804,\n",
      "        \"Dairy Pasture fertilisation\": 147.97061387258714,\n",
      "        \"Beef Pasture fertilisation\": 132.65717287175727,\n",
      "        \"Clover proportion\": 0,\n",
      "        \"Clover fertilisation\": 0,\n",
      "        \"Urea proportion\": 0.2,\n",
      "        \"Urea abated proportion\": 0.07609386703884724,\n",
      "        \"Afforest year\": 2051\n",
      "    },\n",
      "    {\n",
      "        \"Scenarios\": 1,\n",
      "        \"Manure management cattle\": \"tank liquid\",\n",
      "        \"Manure management sheep\": \"solid\",\n",
      "        \"Dairy pop\": 500262.75038267183,\n",
      "        \"Beef pop\": 917965.4134422166,\n",
      "        \"Upland sheep pop\": 499320.0,\n",
      "        \"Lowland sheep pop\": 1997280.0,\n",
      "        \"Dairy prod\": 0.9229088897094662,\n",
      "        \"Beef prod\": 0.9229088897094662,\n",
      "        \"Lowland sheep prod\": 0,\n",
      "        \"Upland sheep prod\": 0,\n",
      "        \"Forest area\": 0.012226274367512446,\n",
      "        \"Conifer proportion\": 0.8232420405525559,\n",
      "        \"Broadleaf proportion\": 0.1767579594474441,\n",
      "        \"Conifer harvest\": 0.15044906534787789,\n",
      "        \"Conifer thinned\": 0.05496834007671761,\n",
      "        \"Broadleaf harvest\": 0,\n",
      "        \"Crop area\": 0,\n",
      "        \"Wetland area\": 0.9877737256324876,\n",
      "        \"Dairy GUE\": 0.07522453267393894,\n",
      "        \"Beef GUE\": 0.047970613872587144,\n",
      "        \"Dairy Pasture fertilisation\": 117.67579594474441,\n",
      "        \"Beef Pasture fertilisation\": 113.579429710811,\n",
      "        \"Clover proportion\": 0,\n",
      "        \"Clover fertilisation\": 0,\n",
      "        \"Urea proportion\": 0.2,\n",
      "        \"Urea abated proportion\": 0.5019418432619911,\n",
      "        \"Afforest year\": 2051\n",
      "    },\n",
      "    {\n",
      "        \"Scenarios\": 2,\n",
      "        \"Manure management cattle\": \"tank liquid\",\n",
      "        \"Manure management sheep\": \"solid\",\n",
      "        \"Dairy pop\": 1174872.0618169818,\n",
      "        \"Beef pop\": 571097.212412416,\n",
      "        \"Upland sheep pop\": 499320.0,\n",
      "        \"Lowland sheep pop\": 1997280.0,\n",
      "        \"Dairy prod\": 0.4797061387258714,\n",
      "        \"Beef prod\": 0.274841700383588,\n",
      "        \"Lowland sheep prod\": 0,\n",
      "        \"Upland sheep prod\": 0,\n",
      "        \"Forest area\": 0.23244124602617744,\n",
      "        \"Conifer proportion\": 0.07709111029053384,\n",
      "        \"Broadleaf proportion\": 0.9229088897094662,\n",
      "        \"Conifer harvest\": 0.05496834007671761,\n",
      "        \"Conifer thinned\": 0.18458177794189323,\n",
      "        \"Broadleaf harvest\": 0,\n",
      "        \"Crop area\": 0,\n",
      "        \"Wetland area\": 0.7675587539738226,\n",
      "        \"Dairy GUE\": 0.09229088897094662,\n",
      "        \"Beef GUE\": 0.07522453267393894,\n",
      "        \"Dairy Pasture fertilisation\": 192.2908889709466,\n",
      "        \"Beef Pasture fertilisation\": 92.37305716132109,\n",
      "        \"Clover proportion\": 0,\n",
      "        \"Clover fertilisation\": 0,\n",
      "        \"Urea proportion\": 0.2,\n",
      "        \"Urea abated proportion\": 0.782222319223938,\n",
      "        \"Afforest year\": 2051\n",
      "    },\n",
      "    {\n",
      "        \"Scenarios\": 3,\n",
      "        \"Manure management cattle\": \"tank liquid\",\n",
      "        \"Manure management sheep\": \"solid\",\n",
      "        \"Dairy pop\": 855390.7240600155,\n",
      "        \"Beef pop\": 410762.10838821135,\n",
      "        \"Upland sheep pop\": 499320.0,\n",
      "        \"Lowland sheep pop\": 1997280.0,\n",
      "        \"Dairy prod\": 0.274841700383588,\n",
      "        \"Beef prod\": 0.1767579594474441,\n",
      "        \"Lowland sheep prod\": 0,\n",
      "        \"Upland sheep prod\": 0,\n",
      "        \"Forest area\": 0.26262895094021255,\n",
      "        \"Conifer proportion\": 0.725158299616412,\n",
      "        \"Broadleaf proportion\": 0.274841700383588,\n",
      "        \"Conifer harvest\": 0.18458177794189323,\n",
      "        \"Conifer thinned\": 0.15044906534787789,\n",
      "        \"Broadleaf harvest\": 0,\n",
      "        \"Crop area\": 0,\n",
      "        \"Wetland area\": 0.7373710490597875,\n",
      "        \"Dairy GUE\": 0.027484170038358804,\n",
      "        \"Beef GUE\": 0.017675795944744412,\n",
      "        \"Dairy Pasture fertilisation\": 175.22453267393894,\n",
      "        \"Beef Pasture fertilisation\": 144.60362227966263,\n",
      "        \"Clover proportion\": 0,\n",
      "        \"Clover fertilisation\": 0,\n",
      "        \"Urea proportion\": 0.2,\n",
      "        \"Urea abated proportion\": 0.2520169412823817,\n",
      "        \"Afforest year\": 2051\n",
      "    },\n",
      "    {\n",
      "        \"Scenarios\": 4,\n",
      "        \"Manure management cattle\": \"tank liquid\",\n",
      "        \"Manure management sheep\": \"solid\",\n",
      "        \"Dairy pop\": 615240.4348576572,\n",
      "        \"Beef pop\": 784397.2825193157,\n",
      "        \"Upland sheep pop\": 499320.0,\n",
      "        \"Lowland sheep pop\": 1997280.0,\n",
      "        \"Dairy prod\": 0.7522453267393894,\n",
      "        \"Beef prod\": 0.4797061387258714,\n",
      "        \"Lowland sheep prod\": 0,\n",
      "        \"Upland sheep prod\": 0,\n",
      "        \"Forest area\": 0.09527203508101578,\n",
      "        \"Conifer proportion\": 0.5202938612741286,\n",
      "        \"Broadleaf proportion\": 0.4797061387258714,\n",
      "        \"Conifer harvest\": 0.035351591889488825,\n",
      "        \"Conifer thinned\": 0.035351591889488825,\n",
      "        \"Broadleaf harvest\": 0,\n",
      "        \"Crop area\": 0,\n",
      "        \"Wetland area\": 0.9047279649189842,\n",
      "        \"Dairy GUE\": 0.047970613872587144,\n",
      "        \"Beef GUE\": 0.09229088897094662,\n",
      "        \"Dairy Pasture fertilisation\": 127.4841700383588,\n",
      "        \"Beef Pasture fertilisation\": 99.23891902685116,\n",
      "        \"Clover proportion\": 0,\n",
      "        \"Clover fertilisation\": 0,\n",
      "        \"Urea proportion\": 0.2,\n",
      "        \"Urea abated proportion\": 0.25782933367907335,\n",
      "        \"Afforest year\": 2051\n",
      "    }\n",
      "]\n"
     ]
    }
   ],
   "source": [
    "#scenario_config file, defines values for user inputs\n",
    "\n",
    "with open(scenario_config, 'r') as f:\n",
    "    scenario_data = json.load(f)\n",
    "\n",
    "# Print JSON data\n",
    "print(\"Scenario Config Data:\")\n",
    "print(json.dumps(scenario_data, indent=4))"
   ]
  },
  {
   "cell_type": "markdown",
   "metadata": {},
   "source": [
    "The majority of the values are floats represeting proportions (0:1) for different inputs. Others, like pop, are still floats, but are animal populations. The Scenario variable, is an int, with the number of that particular scenario. \n",
    "\n",
    "Afforest year, is the year afforestation ends. Spared area (will explain in person what that is) can be used by different ladn uses, when it is afforested, it is afforested over a number of years. It can be spread longer than the target year, but the minimum is the target year +1 "
   ]
  },
  {
   "cell_type": "code",
   "execution_count": 10,
   "metadata": {},
   "outputs": [
    {
     "name": "stdout",
     "output_type": "stream",
     "text": [
      "Forest Config Data:\n",
      "Classifiers:\n",
      "    age_classes:\n",
      "        age_interval: 5\n",
      "        max_age: 100\n",
      "    harvest:\n",
      "        clearfell:\n",
      "        -   conifer: 0.5\n",
      "        -   broadleaf: 0.06\n",
      "        thinning:\n",
      "        -   conifer: 0.4\n",
      "        -   broadleaf: 0\n",
      "    species:\n",
      "    - Sitka\n",
      "    - SGB\n",
      "    yield_class:\n",
      "        SGB:\n",
      "        -   YC10: 1\n",
      "        Sitka:\n",
      "        -   YC13_16: 0.37\n",
      "        -   YC17_20: 0.26\n",
      "        -   YC20_24: 0.2\n",
      "        -   YC24_30: 0.17\n",
      "\n"
     ]
    }
   ],
   "source": [
    "# Forest config file, defines values for forest inputs\n",
    "with open(forest_config, 'r') as f:\n",
    "    forest_data = yaml.safe_load(f)\n",
    "\n",
    "# Print JSON data\n",
    "print(\"Forest Config Data:\")\n",
    "print(yaml.dump(forest_data, indent=4))"
   ]
  },
  {
   "cell_type": "markdown",
   "metadata": {},
   "source": [
    "The configuration here sets up classifiers for the carbon sequestration model for forest (CBM CSF3). This allows us to defined parameters for previously planted standing forest into the future. Basically, what we assume is happening to prexisting forest when we run out of data for it. \n",
    "\n",
    "The yield_class variable is only really used for GeoGOBLIN, where we do not have any data on the yield class bins for forest in the catchments. So, we take the forest area, and we apply national distributions based on the National Forest Inventory. \n",
    "\n",
    "For now, the only important factors are clearfell and thinning. "
   ]
  },
  {
   "cell_type": "markdown",
   "metadata": {},
   "source": [
    "### Scenario Runner\n",
    "\n",
    "Here we will define the scenario runner, run the simulations. "
   ]
  },
  {
   "cell_type": "code",
   "execution_count": 21,
   "metadata": {},
   "outputs": [],
   "source": [
    "runner = ScenarioRunner(ef_country, baseline_year, target_year, scenario_config, forest_config)"
   ]
  },
  {
   "cell_type": "code",
   "execution_count": 22,
   "metadata": {},
   "outputs": [
    {
     "name": "stdout",
     "output_type": "stream",
     "text": [
      "No tables to clean.\n",
      "JSON file detected\n"
     ]
    },
    {
     "name": "stderr",
     "output_type": "stream",
     "text": [
      "/home/colmduff/Dropbox/projects/FORESIGHT/ICHEC/goblin_resources/.venv/lib/python3.10/site-packages/libcbm/resources/__init__.py:112: RuntimeWarning: untested linux distribution: Linux-5.15.0-116-generic-x86_64-with-glibc2.35\n",
      "  warnings.warn(message, RuntimeWarning)\n",
      "/home/colmduff/Dropbox/projects/FORESIGHT/ICHEC/goblin_resources/.venv/lib/python3.10/site-packages/libcbm/resources/__init__.py:112: RuntimeWarning: untested linux distribution: Linux-5.15.0-116-generic-x86_64-with-glibc2.35\n",
      "  warnings.warn(message, RuntimeWarning)\n",
      "/home/colmduff/Dropbox/projects/FORESIGHT/ICHEC/goblin_resources/.venv/lib/python3.10/site-packages/libcbm/resources/__init__.py:112: RuntimeWarning: untested linux distribution: Linux-5.15.0-116-generic-x86_64-with-glibc2.35\n",
      "  warnings.warn(message, RuntimeWarning)\n",
      "/home/colmduff/Dropbox/projects/FORESIGHT/ICHEC/goblin_resources/.venv/lib/python3.10/site-packages/libcbm/resources/__init__.py:112: RuntimeWarning: untested linux distribution: Linux-5.15.0-116-generic-x86_64-with-glibc2.35\n",
      "  warnings.warn(message, RuntimeWarning)\n",
      "/home/colmduff/Dropbox/projects/FORESIGHT/ICHEC/goblin_resources/.venv/lib/python3.10/site-packages/libcbm/resources/__init__.py:112: RuntimeWarning: untested linux distribution: Linux-5.15.0-116-generic-x86_64-with-glibc2.35\n",
      "  warnings.warn(message, RuntimeWarning)\n",
      "/home/colmduff/Dropbox/projects/FORESIGHT/ICHEC/goblin_resources/.venv/lib/python3.10/site-packages/libcbm/resources/__init__.py:112: RuntimeWarning: untested linux distribution: Linux-5.15.0-116-generic-x86_64-with-glibc2.35\n",
      "  warnings.warn(message, RuntimeWarning)\n",
      "/home/colmduff/Dropbox/projects/FORESIGHT/ICHEC/goblin_resources/.venv/lib/python3.10/site-packages/libcbm/resources/__init__.py:112: RuntimeWarning: untested linux distribution: Linux-5.15.0-116-generic-x86_64-with-glibc2.35\n",
      "  warnings.warn(message, RuntimeWarning)\n",
      "/home/colmduff/Dropbox/projects/FORESIGHT/ICHEC/goblin_resources/.venv/lib/python3.10/site-packages/libcbm/resources/__init__.py:112: RuntimeWarning: untested linux distribution: Linux-5.15.0-116-generic-x86_64-with-glibc2.35\n",
      "  warnings.warn(message, RuntimeWarning)\n",
      "/home/colmduff/Dropbox/projects/FORESIGHT/ICHEC/goblin_resources/.venv/lib/python3.10/site-packages/libcbm/resources/__init__.py:112: RuntimeWarning: untested linux distribution: Linux-5.15.0-116-generic-x86_64-with-glibc2.35\n",
      "  warnings.warn(message, RuntimeWarning)\n",
      "/home/colmduff/Dropbox/projects/FORESIGHT/ICHEC/goblin_resources/.venv/lib/python3.10/site-packages/libcbm/resources/__init__.py:112: RuntimeWarning: untested linux distribution: Linux-5.15.0-116-generic-x86_64-with-glibc2.35\n",
      "  warnings.warn(message, RuntimeWarning)\n",
      "/home/colmduff/Dropbox/projects/FORESIGHT/ICHEC/goblin_resources/.venv/lib/python3.10/site-packages/libcbm/resources/__init__.py:112: RuntimeWarning: untested linux distribution: Linux-5.15.0-116-generic-x86_64-with-glibc2.35\n",
      "  warnings.warn(message, RuntimeWarning)\n",
      "/home/colmduff/Dropbox/projects/FORESIGHT/ICHEC/goblin_resources/.venv/lib/python3.10/site-packages/libcbm/resources/__init__.py:112: RuntimeWarning: untested linux distribution: Linux-5.15.0-116-generic-x86_64-with-glibc2.35\n",
      "  warnings.warn(message, RuntimeWarning)\n",
      "/home/colmduff/Dropbox/projects/FORESIGHT/ICHEC/goblin_resources/.venv/lib/python3.10/site-packages/libcbm/resources/__init__.py:112: RuntimeWarning: untested linux distribution: Linux-5.15.0-116-generic-x86_64-with-glibc2.35\n",
      "  warnings.warn(message, RuntimeWarning)\n",
      "/home/colmduff/Dropbox/projects/FORESIGHT/ICHEC/goblin_resources/.venv/lib/python3.10/site-packages/libcbm/resources/__init__.py:112: RuntimeWarning: untested linux distribution: Linux-5.15.0-116-generic-x86_64-with-glibc2.35\n",
      "  warnings.warn(message, RuntimeWarning)\n",
      "/home/colmduff/Dropbox/projects/FORESIGHT/ICHEC/goblin_resources/.venv/lib/python3.10/site-packages/libcbm/resources/__init__.py:112: RuntimeWarning: untested linux distribution: Linux-5.15.0-116-generic-x86_64-with-glibc2.35\n",
      "  warnings.warn(message, RuntimeWarning)\n",
      "/home/colmduff/Dropbox/projects/FORESIGHT/ICHEC/goblin_resources/.venv/lib/python3.10/site-packages/libcbm/resources/__init__.py:112: RuntimeWarning: untested linux distribution: Linux-5.15.0-116-generic-x86_64-with-glibc2.35\n",
      "  warnings.warn(message, RuntimeWarning)\n",
      "/home/colmduff/Dropbox/projects/FORESIGHT/ICHEC/goblin_resources/.venv/lib/python3.10/site-packages/libcbm/resources/__init__.py:112: RuntimeWarning: untested linux distribution: Linux-5.15.0-116-generic-x86_64-with-glibc2.35\n",
      "  warnings.warn(message, RuntimeWarning)\n",
      "/home/colmduff/Dropbox/projects/FORESIGHT/ICHEC/goblin_resources/.venv/lib/python3.10/site-packages/libcbm/resources/__init__.py:112: RuntimeWarning: untested linux distribution: Linux-5.15.0-116-generic-x86_64-with-glibc2.35\n",
      "  warnings.warn(message, RuntimeWarning)\n",
      "/home/colmduff/Dropbox/projects/FORESIGHT/ICHEC/goblin_resources/.venv/lib/python3.10/site-packages/libcbm/resources/__init__.py:112: RuntimeWarning: untested linux distribution: Linux-5.15.0-116-generic-x86_64-with-glibc2.35\n",
      "  warnings.warn(message, RuntimeWarning)\n",
      "/home/colmduff/Dropbox/projects/FORESIGHT/ICHEC/goblin_resources/.venv/lib/python3.10/site-packages/libcbm/resources/__init__.py:112: RuntimeWarning: untested linux distribution: Linux-5.15.0-116-generic-x86_64-with-glibc2.35\n",
      "  warnings.warn(message, RuntimeWarning)\n",
      "/home/colmduff/Dropbox/projects/FORESIGHT/ICHEC/goblin_resources/.venv/lib/python3.10/site-packages/libcbm/resources/__init__.py:112: RuntimeWarning: untested linux distribution: Linux-5.15.0-116-generic-x86_64-with-glibc2.35\n",
      "  warnings.warn(message, RuntimeWarning)\n",
      "/home/colmduff/Dropbox/projects/FORESIGHT/ICHEC/goblin_resources/.venv/lib/python3.10/site-packages/libcbm/resources/__init__.py:112: RuntimeWarning: untested linux distribution: Linux-5.15.0-116-generic-x86_64-with-glibc2.35\n",
      "  warnings.warn(message, RuntimeWarning)\n",
      "/home/colmduff/Dropbox/projects/FORESIGHT/ICHEC/goblin_resources/.venv/lib/python3.10/site-packages/libcbm/resources/__init__.py:112: RuntimeWarning: untested linux distribution: Linux-5.15.0-116-generic-x86_64-with-glibc2.35\n",
      "  warnings.warn(message, RuntimeWarning)\n",
      "/home/colmduff/Dropbox/projects/FORESIGHT/ICHEC/goblin_resources/.venv/lib/python3.10/site-packages/libcbm/resources/__init__.py:112: RuntimeWarning: untested linux distribution: Linux-5.15.0-116-generic-x86_64-with-glibc2.35\n",
      "  warnings.warn(message, RuntimeWarning)\n",
      "/home/colmduff/Dropbox/projects/FORESIGHT/ICHEC/goblin_resources/.venv/lib/python3.10/site-packages/libcbm/resources/__init__.py:112: RuntimeWarning: untested linux distribution: Linux-5.15.0-116-generic-x86_64-with-glibc2.35\n",
      "  warnings.warn(message, RuntimeWarning)\n",
      "/home/colmduff/Dropbox/projects/FORESIGHT/ICHEC/goblin_resources/.venv/lib/python3.10/site-packages/libcbm/resources/__init__.py:112: RuntimeWarning: untested linux distribution: Linux-5.15.0-116-generic-x86_64-with-glibc2.35\n",
      "  warnings.warn(message, RuntimeWarning)\n",
      "/home/colmduff/Dropbox/projects/FORESIGHT/ICHEC/goblin_resources/.venv/lib/python3.10/site-packages/libcbm/resources/__init__.py:112: RuntimeWarning: untested linux distribution: Linux-5.15.0-116-generic-x86_64-with-glibc2.35\n",
      "  warnings.warn(message, RuntimeWarning)\n",
      "/home/colmduff/Dropbox/projects/FORESIGHT/ICHEC/goblin_resources/.venv/lib/python3.10/site-packages/libcbm/resources/__init__.py:112: RuntimeWarning: untested linux distribution: Linux-5.15.0-116-generic-x86_64-with-glibc2.35\n",
      "  warnings.warn(message, RuntimeWarning)\n",
      "/home/colmduff/Dropbox/projects/FORESIGHT/ICHEC/goblin_resources/.venv/lib/python3.10/site-packages/libcbm/resources/__init__.py:112: RuntimeWarning: untested linux distribution: Linux-5.15.0-116-generic-x86_64-with-glibc2.35\n",
      "  warnings.warn(message, RuntimeWarning)\n",
      "/home/colmduff/Dropbox/projects/FORESIGHT/ICHEC/goblin_resources/.venv/lib/python3.10/site-packages/libcbm/resources/__init__.py:112: RuntimeWarning: untested linux distribution: Linux-5.15.0-116-generic-x86_64-with-glibc2.35\n",
      "  warnings.warn(message, RuntimeWarning)\n",
      "/home/colmduff/Dropbox/projects/FORESIGHT/ICHEC/goblin_resources/.venv/lib/python3.10/site-packages/libcbm/resources/__init__.py:112: RuntimeWarning: untested linux distribution: Linux-5.15.0-116-generic-x86_64-with-glibc2.35\n",
      "  warnings.warn(message, RuntimeWarning)\n",
      "/home/colmduff/Dropbox/projects/FORESIGHT/ICHEC/goblin_resources/.venv/lib/python3.10/site-packages/libcbm/resources/__init__.py:112: RuntimeWarning: untested linux distribution: Linux-5.15.0-116-generic-x86_64-with-glibc2.35\n",
      "  warnings.warn(message, RuntimeWarning)\n",
      "/home/colmduff/Dropbox/projects/FORESIGHT/ICHEC/goblin_resources/.venv/lib/python3.10/site-packages/libcbm/resources/__init__.py:112: RuntimeWarning: untested linux distribution: Linux-5.15.0-116-generic-x86_64-with-glibc2.35\n",
      "  warnings.warn(message, RuntimeWarning)\n",
      "/home/colmduff/Dropbox/projects/FORESIGHT/ICHEC/goblin_resources/.venv/lib/python3.10/site-packages/libcbm/resources/__init__.py:112: RuntimeWarning: untested linux distribution: Linux-5.15.0-116-generic-x86_64-with-glibc2.35\n",
      "  warnings.warn(message, RuntimeWarning)\n",
      "/home/colmduff/Dropbox/projects/FORESIGHT/ICHEC/goblin_resources/.venv/lib/python3.10/site-packages/libcbm/resources/__init__.py:112: RuntimeWarning: untested linux distribution: Linux-5.15.0-116-generic-x86_64-with-glibc2.35\n",
      "  warnings.warn(message, RuntimeWarning)\n",
      "/home/colmduff/Dropbox/projects/FORESIGHT/ICHEC/goblin_resources/.venv/lib/python3.10/site-packages/libcbm/resources/__init__.py:112: RuntimeWarning: untested linux distribution: Linux-5.15.0-116-generic-x86_64-with-glibc2.35\n",
      "  warnings.warn(message, RuntimeWarning)\n",
      "/home/colmduff/Dropbox/projects/FORESIGHT/ICHEC/goblin_resources/.venv/lib/python3.10/site-packages/libcbm/resources/__init__.py:112: RuntimeWarning: untested linux distribution: Linux-5.15.0-116-generic-x86_64-with-glibc2.35\n",
      "  warnings.warn(message, RuntimeWarning)\n",
      "/home/colmduff/Dropbox/projects/FORESIGHT/ICHEC/goblin_resources/.venv/lib/python3.10/site-packages/libcbm/resources/__init__.py:112: RuntimeWarning: untested linux distribution: Linux-5.15.0-116-generic-x86_64-with-glibc2.35\n",
      "  warnings.warn(message, RuntimeWarning)\n",
      "/home/colmduff/Dropbox/projects/FORESIGHT/ICHEC/goblin_resources/.venv/lib/python3.10/site-packages/libcbm/resources/__init__.py:112: RuntimeWarning: untested linux distribution: Linux-5.15.0-116-generic-x86_64-with-glibc2.35\n",
      "  warnings.warn(message, RuntimeWarning)\n",
      "/home/colmduff/Dropbox/projects/FORESIGHT/ICHEC/goblin_resources/.venv/lib/python3.10/site-packages/libcbm/resources/__init__.py:112: RuntimeWarning: untested linux distribution: Linux-5.15.0-116-generic-x86_64-with-glibc2.35\n",
      "  warnings.warn(message, RuntimeWarning)\n",
      "/home/colmduff/Dropbox/projects/FORESIGHT/ICHEC/goblin_resources/.venv/lib/python3.10/site-packages/libcbm/resources/__init__.py:112: RuntimeWarning: untested linux distribution: Linux-5.15.0-116-generic-x86_64-with-glibc2.35\n",
      "  warnings.warn(message, RuntimeWarning)\n",
      "/home/colmduff/Dropbox/projects/FORESIGHT/ICHEC/goblin_resources/.venv/lib/python3.10/site-packages/libcbm/resources/__init__.py:112: RuntimeWarning: untested linux distribution: Linux-5.15.0-116-generic-x86_64-with-glibc2.35\n",
      "  warnings.warn(message, RuntimeWarning)\n",
      "/home/colmduff/Dropbox/projects/FORESIGHT/ICHEC/goblin_resources/.venv/lib/python3.10/site-packages/libcbm/resources/__init__.py:112: RuntimeWarning: untested linux distribution: Linux-5.15.0-116-generic-x86_64-with-glibc2.35\n",
      "  warnings.warn(message, RuntimeWarning)\n",
      "/home/colmduff/Dropbox/projects/FORESIGHT/ICHEC/goblin_resources/.venv/lib/python3.10/site-packages/libcbm/resources/__init__.py:112: RuntimeWarning: untested linux distribution: Linux-5.15.0-116-generic-x86_64-with-glibc2.35\n",
      "  warnings.warn(message, RuntimeWarning)\n",
      "/home/colmduff/Dropbox/projects/FORESIGHT/ICHEC/goblin_resources/.venv/lib/python3.10/site-packages/libcbm/resources/__init__.py:112: RuntimeWarning: untested linux distribution: Linux-5.15.0-116-generic-x86_64-with-glibc2.35\n",
      "  warnings.warn(message, RuntimeWarning)\n",
      "/home/colmduff/Dropbox/projects/FORESIGHT/ICHEC/goblin_resources/.venv/lib/python3.10/site-packages/libcbm/resources/__init__.py:112: RuntimeWarning: untested linux distribution: Linux-5.15.0-116-generic-x86_64-with-glibc2.35\n",
      "  warnings.warn(message, RuntimeWarning)\n",
      "/home/colmduff/Dropbox/projects/FORESIGHT/ICHEC/goblin_resources/.venv/lib/python3.10/site-packages/libcbm/resources/__init__.py:112: RuntimeWarning: untested linux distribution: Linux-5.15.0-116-generic-x86_64-with-glibc2.35\n",
      "  warnings.warn(message, RuntimeWarning)\n",
      "/home/colmduff/Dropbox/projects/FORESIGHT/ICHEC/goblin_resources/.venv/lib/python3.10/site-packages/libcbm/resources/__init__.py:112: RuntimeWarning: untested linux distribution: Linux-5.15.0-116-generic-x86_64-with-glibc2.35\n",
      "  warnings.warn(message, RuntimeWarning)\n"
     ]
    },
    {
     "name": "stdout",
     "output_type": "stream",
     "text": [
      "Scenario Generation Complete ... \n",
      "\n"
     ]
    }
   ],
   "source": [
    "# run scenarios \n",
    "runner.run_scenarios()"
   ]
  },
  {
   "cell_type": "markdown",
   "metadata": {},
   "source": [
    "### Fetching Data \n",
    "\n",
    "We use the fetcher class to retrieve the data saved locally in the package db"
   ]
  },
  {
   "cell_type": "code",
   "execution_count": 23,
   "metadata": {},
   "outputs": [],
   "source": [
    "fetcher_class = DataFetcher()"
   ]
  },
  {
   "cell_type": "code",
   "execution_count": 24,
   "metadata": {},
   "outputs": [
    {
     "name": "stdout",
     "output_type": "stream",
     "text": [
      "              CH4        N2O           CO2          CO2e\n",
      "index                                                   \n",
      "-1     634.471263  23.086912    927.628957  24810.855928\n",
      " 0     496.559922  17.312377 -11188.790227   7302.667634\n",
      " 1     428.139824  14.847373  -3869.398042  12053.070785\n",
      " 2     502.186011  16.990445  -8402.569932  10161.106262\n",
      " 3     405.981400  14.972725 -11153.409297   4181.842125\n",
      " 4     427.406159  14.365797  -6373.162293   9401.146274\n"
     ]
    }
   ],
   "source": [
    "# pull data from the database\n",
    "\n",
    "aggregated_emmissions_df = fetcher_class.get_climate_change_emission_totals()\n",
    "\n",
    "print(aggregated_emmissions_df)"
   ]
  },
  {
   "cell_type": "markdown",
   "metadata": {},
   "source": [
    "There are over 28 tables returned from a sceanrio run ... "
   ]
  },
  {
   "cell_type": "code",
   "execution_count": 25,
   "metadata": {},
   "outputs": [
    {
     "name": "stdout",
     "output_type": "stream",
     "text": [
      "           land_use  year           CO2         CH4       N2O          CO2e\n",
      "scenario                                                                   \n",
      "-1         cropland  2020      0.000000    0.000154  0.000004      0.005380\n",
      "-1        grassland  2020   1061.271545   42.841175  0.001507   2261.223915\n",
      "-1           forest  2020  -1496.333122    1.926434  0.512809  -1306.498711\n",
      "-1          wetland  2020    853.805160   81.496830  0.101991   3162.744029\n",
      "-1            total  2020    418.743583  126.264594  0.616311   4117.474613\n",
      " 0         cropland  2050      0.000000    0.000154  0.000004      0.005380\n",
      " 0        grassland  2050    341.057835   55.223805  0.000725   1887.516399\n",
      " 0           forest  2050 -12877.875589    1.926434  0.512809 -12688.041178\n",
      " 0          wetland  2050    853.805160   81.496830  0.101991   3162.744029\n",
      " 0            total  2050 -11683.012594  138.647224  0.615528  -7637.775370\n",
      " 1         cropland  2050      0.000000    0.000154  0.000004      0.005380\n",
      " 1        grassland  2050    535.940643   53.766653  0.000790   2041.616377\n",
      " 1           forest  2050  -5734.328521    1.926434  0.512809  -5544.494110\n",
      " 1          wetland  2050    853.805160   81.496830  0.101991   3162.744029\n",
      " 1            total  2050  -4344.582718  137.190072  0.615594   -340.128324\n",
      " 2         cropland  2050      0.000000    0.000154  0.000004      0.005380\n",
      " 2        grassland  2050    410.033810   54.524903  0.000762   1936.933021\n",
      " 2           forest  2050 -10155.100947    1.926434  0.512809  -9965.266535\n",
      " 2          wetland  2050    853.805160   81.496830  0.101991   3162.744029\n",
      " 2            total  2050  -8891.261977  137.948322  0.615566  -4865.584106\n",
      " 3         cropland  2050      0.000000    0.000154  0.000004      0.005380\n",
      " 3        grassland  2050    375.322076   56.512296  0.000617   1957.829878\n",
      " 3           forest  2050 -12869.522035    1.926434  0.512809 -12679.687624\n",
      " 3          wetland  2050    853.805160   81.496830  0.101991   3162.744029\n",
      " 3            total  2050 -11640.394799  139.935715  0.615421  -7559.108338\n",
      " 4         cropland  2050      0.000000    0.000154  0.000004      0.005380\n",
      " 4        grassland  2050    471.781808   54.733186  0.000731   2004.504779\n",
      " 4           forest  2050  -8168.047923    1.926434  0.512809  -7978.213512\n",
      " 4          wetland  2050    853.805160   81.496830  0.101991   3162.744029\n",
      " 4            total  2050  -6842.460955  138.156605  0.615535  -2810.959325\n"
     ]
    }
   ],
   "source": [
    "#Land use emissions by category \n",
    "\n",
    "land_emissions_df = fetcher_class.get_landuse_emissions_totals()\n",
    "\n",
    "print(land_emissions_df)\n"
   ]
  },
  {
   "cell_type": "code",
   "execution_count": null,
   "metadata": {},
   "outputs": [],
   "source": []
  }
 ],
 "metadata": {
  "kernelspec": {
   "display_name": ".venv",
   "language": "python",
   "name": "python3"
  },
  "language_info": {
   "codemirror_mode": {
    "name": "ipython",
    "version": 3
   },
   "file_extension": ".py",
   "mimetype": "text/x-python",
   "name": "python",
   "nbconvert_exporter": "python",
   "pygments_lexer": "ipython3",
   "version": "3.10.12"
  }
 },
 "nbformat": 4,
 "nbformat_minor": 2
}
